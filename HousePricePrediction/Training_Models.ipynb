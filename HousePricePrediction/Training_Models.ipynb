{
 "cells": [
  {
   "cell_type": "markdown",
   "id": "b14017ee",
   "metadata": {},
   "source": [
    "Installing Neccessary Library - catboost/xgboost"
   ]
  },
  {
   "cell_type": "code",
   "execution_count": 1,
   "id": "7226d36f",
   "metadata": {},
   "outputs": [
    {
     "name": "stdout",
     "output_type": "stream",
     "text": [
      "Requirement already satisfied: catboost in c:\\users\\singh\\anaconda3\\lib\\site-packages (1.2.8)\n",
      "Requirement already satisfied: graphviz in c:\\users\\singh\\anaconda3\\lib\\site-packages (from catboost) (0.21)\n",
      "Requirement already satisfied: matplotlib in c:\\users\\singh\\anaconda3\\lib\\site-packages (from catboost) (3.10.0)\n",
      "Requirement already satisfied: numpy<3.0,>=1.16.0 in c:\\users\\singh\\anaconda3\\lib\\site-packages (from catboost) (2.1.3)\n",
      "Requirement already satisfied: pandas>=0.24 in c:\\users\\singh\\anaconda3\\lib\\site-packages (from catboost) (2.2.3)\n",
      "Requirement already satisfied: scipy in c:\\users\\singh\\anaconda3\\lib\\site-packages (from catboost) (1.15.3)\n",
      "Requirement already satisfied: plotly in c:\\users\\singh\\anaconda3\\lib\\site-packages (from catboost) (5.24.1)\n",
      "Requirement already satisfied: six in c:\\users\\singh\\anaconda3\\lib\\site-packages (from catboost) (1.17.0)\n",
      "Requirement already satisfied: python-dateutil>=2.8.2 in c:\\users\\singh\\anaconda3\\lib\\site-packages (from pandas>=0.24->catboost) (2.9.0.post0)\n",
      "Requirement already satisfied: pytz>=2020.1 in c:\\users\\singh\\anaconda3\\lib\\site-packages (from pandas>=0.24->catboost) (2024.1)\n",
      "Requirement already satisfied: tzdata>=2022.7 in c:\\users\\singh\\anaconda3\\lib\\site-packages (from pandas>=0.24->catboost) (2025.2)\n",
      "Requirement already satisfied: contourpy>=1.0.1 in c:\\users\\singh\\anaconda3\\lib\\site-packages (from matplotlib->catboost) (1.3.1)\n",
      "Requirement already satisfied: cycler>=0.10 in c:\\users\\singh\\anaconda3\\lib\\site-packages (from matplotlib->catboost) (0.11.0)\n",
      "Requirement already satisfied: fonttools>=4.22.0 in c:\\users\\singh\\anaconda3\\lib\\site-packages (from matplotlib->catboost) (4.55.3)\n",
      "Requirement already satisfied: kiwisolver>=1.3.1 in c:\\users\\singh\\anaconda3\\lib\\site-packages (from matplotlib->catboost) (1.4.8)\n",
      "Requirement already satisfied: packaging>=20.0 in c:\\users\\singh\\anaconda3\\lib\\site-packages (from matplotlib->catboost) (24.2)\n",
      "Requirement already satisfied: pillow>=8 in c:\\users\\singh\\anaconda3\\lib\\site-packages (from matplotlib->catboost) (11.1.0)\n",
      "Requirement already satisfied: pyparsing>=2.3.1 in c:\\users\\singh\\anaconda3\\lib\\site-packages (from matplotlib->catboost) (3.2.0)\n",
      "Requirement already satisfied: tenacity>=6.2.0 in c:\\users\\singh\\anaconda3\\lib\\site-packages (from plotly->catboost) (9.0.0)\n",
      "Note: you may need to restart the kernel to use updated packages.\n"
     ]
    }
   ],
   "source": [
    "%pip install catboost"
   ]
  },
  {
   "cell_type": "code",
   "execution_count": 2,
   "id": "fbce6cf3",
   "metadata": {},
   "outputs": [
    {
     "name": "stdout",
     "output_type": "stream",
     "text": [
      "Requirement already satisfied: xgboost in c:\\users\\singh\\anaconda3\\lib\\site-packages (3.0.4)\n",
      "Requirement already satisfied: numpy in c:\\users\\singh\\anaconda3\\lib\\site-packages (from xgboost) (2.1.3)\n",
      "Requirement already satisfied: scipy in c:\\users\\singh\\anaconda3\\lib\\site-packages (from xgboost) (1.15.3)\n",
      "Note: you may need to restart the kernel to use updated packages.\n"
     ]
    }
   ],
   "source": [
    "%pip install xgboost"
   ]
  },
  {
   "cell_type": "markdown",
   "id": "e339a374",
   "metadata": {},
   "source": [
    "Importing Libraries"
   ]
  },
  {
   "cell_type": "code",
   "execution_count": 3,
   "id": "b050dd3b",
   "metadata": {},
   "outputs": [],
   "source": [
    "import numpy as np\n",
    "import pandas as pd\n",
    "from sklearn.pipeline import Pipeline, FeatureUnion\n",
    "from sklearn.preprocessing import StandardScaler, OneHotEncoder\n",
    "from sklearn.impute import SimpleImputer\n",
    "from sklearn.base import BaseEstimator, TransformerMixin\n",
    "from sklearn.model_selection import train_test_split, GridSearchCV, cross_val_score, RandomizedSearchCV, RepeatedKFold, validation_curve\n",
    "from sklearn.linear_model import LinearRegression, Ridge\n",
    "from sklearn.ensemble import GradientBoostingRegressor, StackingRegressor\n",
    "from sklearn.svm import SVR\n",
    "from sklearn.metrics import r2_score\n",
    "from xgboost import XGBRegressor\n",
    "from catboost import CatBoostRegressor\n",
    "import statsmodels.api as sm\n",
    "from statsmodels.stats.outliers_influence import variance_inflation_factor\n",
    "import matplotlib.pyplot as plt"
   ]
  },
  {
   "cell_type": "markdown",
   "id": "d69208e8",
   "metadata": {},
   "source": [
    "Adding Custom Transformer same as previous EDA"
   ]
  },
  {
   "cell_type": "code",
   "execution_count": 4,
   "id": "4da97258",
   "metadata": {},
   "outputs": [],
   "source": [
    "class DataFrameSelector(BaseEstimator, TransformerMixin):\n",
    "    def __init__(self, features):\n",
    "        self.features = features\n",
    "    def fit(self, X, y=None):\n",
    "        return self\n",
    "    def transform(self, X):\n",
    "        return X[self.features]"
   ]
  },
  {
   "cell_type": "markdown",
   "id": "ddb5a9fa",
   "metadata": {},
   "source": [
    "Load and Preprocess the Dataset"
   ]
  },
  {
   "cell_type": "code",
   "execution_count": 5,
   "id": "ae27d1fe",
   "metadata": {},
   "outputs": [],
   "source": [
    "df = pd.read_excel(\"C:\\\\Users\\\\singh\\\\House-Price-Pediction\\\\HousePricePrediction\\\\HousePricePrediction.xlsx\")\n",
    "df.drop('Id', axis=1, inplace=True)\n",
    "df = df.dropna(subset=['SalePrice'])"
   ]
  },
  {
   "cell_type": "code",
   "execution_count": 6,
   "id": "caecee76",
   "metadata": {},
   "outputs": [],
   "source": [
    "y = np.log1p(df['SalePrice'])\n",
    "df = df.drop('SalePrice', axis=1)\n",
    "\n",
    "num_features = df.select_dtypes(include=[np.number]).columns.tolist()\n",
    "cat_features = df.select_dtypes(include=['object']).columns.tolist()"
   ]
  },
  {
   "cell_type": "markdown",
   "id": "3e2f6837",
   "metadata": {},
   "source": [
    "Performing Pipelining Processing"
   ]
  },
  {
   "cell_type": "code",
   "execution_count": 7,
   "id": "42e0f27c",
   "metadata": {},
   "outputs": [],
   "source": [
    "num_pipeline = Pipeline([\n",
    "    ('selector', DataFrameSelector(num_features)),\n",
    "    ('imputer', SimpleImputer(strategy='median')),\n",
    "    ('scaler', StandardScaler())\n",
    "])\n",
    "cat_pipeline = Pipeline([\n",
    "    ('selector', DataFrameSelector(cat_features)),\n",
    "    ('imputer', SimpleImputer(strategy='constant', fill_value='Missing')),\n",
    "    ('onehot', OneHotEncoder(handle_unknown='ignore', sparse_output=False))\n",
    "])\n",
    "full_pipeline = FeatureUnion([\n",
    "    ('num_pipeline', num_pipeline),\n",
    "    ('cat_pipeline', cat_pipeline)\n",
    "])\n",
    "\n",
    "X_prepared = full_pipeline.fit_transform(df)\n",
    "onehot_encoder = full_pipeline.transformer_list[1][1].named_steps['onehot']\n",
    "feature_names = num_features + list(onehot_encoder.get_feature_names_out(cat_features))\n",
    "X_df = pd.DataFrame(X_prepared, columns=feature_names)\n",
    "\n",
    "def remove_by_vif(X, thresh=5.0):\n",
    "    while True:\n",
    "        vif = pd.Series(\n",
    "            [variance_inflation_factor(X.values, i) for i in range(X.shape[1])],\n",
    "            index=X.columns\n",
    "        )\n",
    "        max_vif = vif.max()\n",
    "        if max_vif > thresh:\n",
    "            drop_col = vif.idxmax()\n",
    "            print(f\"Removing '{drop_col}' due to high VIF: {max_vif:.2f}\")\n",
    "            X = X.drop(columns=[drop_col])\n",
    "        else:\n",
    "            break\n",
    "    return X\n",
    "\n",
    "def remove_by_pvalue(X, y, thresh=0.05):\n",
    "    while True:\n",
    "        X_const = sm.add_constant(X)\n",
    "        y_aligned = y.loc[X.index]\n",
    "        model = sm.OLS(y_aligned, X_const).fit()\n",
    "        pvalues = model.pvalues.iloc[1:]\n",
    "        max_pval = pvalues.max()\n",
    "        if max_pval > thresh:\n",
    "            drop_col = pvalues.idxmax()\n",
    "            print(f\"Removing '{drop_col}' due to high p-value: {max_pval:.4f}\")\n",
    "            X = X.drop(columns=[drop_col])\n",
    "        else:\n",
    "            break\n",
    "    return X"
   ]
  },
  {
   "cell_type": "code",
   "execution_count": 8,
   "id": "06cd3a1d",
   "metadata": {},
   "outputs": [
    {
     "name": "stderr",
     "output_type": "stream",
     "text": [
      "c:\\Users\\singh\\anaconda3\\Lib\\site-packages\\statsmodels\\stats\\outliers_influence.py:197: RuntimeWarning: divide by zero encountered in scalar divide\n",
      "  vif = 1. / (1. - r_squared_i)\n"
     ]
    },
    {
     "name": "stdout",
     "output_type": "stream",
     "text": [
      "Removing 'MSZoning_C (all)' due to high VIF: inf\n"
     ]
    },
    {
     "name": "stderr",
     "output_type": "stream",
     "text": [
      "c:\\Users\\singh\\anaconda3\\Lib\\site-packages\\statsmodels\\stats\\outliers_influence.py:197: RuntimeWarning: divide by zero encountered in scalar divide\n",
      "  vif = 1. / (1. - r_squared_i)\n"
     ]
    },
    {
     "name": "stdout",
     "output_type": "stream",
     "text": [
      "Removing 'LotConfig_Corner' due to high VIF: inf\n"
     ]
    },
    {
     "name": "stderr",
     "output_type": "stream",
     "text": [
      "c:\\Users\\singh\\anaconda3\\Lib\\site-packages\\statsmodels\\stats\\outliers_influence.py:197: RuntimeWarning: divide by zero encountered in scalar divide\n",
      "  vif = 1. / (1. - r_squared_i)\n"
     ]
    },
    {
     "name": "stdout",
     "output_type": "stream",
     "text": [
      "Removing 'BldgType_1Fam' due to high VIF: inf\n",
      "Removing 'Exterior1st_VinylSd' due to high VIF: 57.09\n",
      "Removing 'MSZoning_RL' due to high VIF: 7.46\n",
      "Removing 'MSZoning_RH' due to high p-value: 0.8785\n",
      "Removing 'LotConfig_FR3' due to high p-value: 0.8091\n",
      "Removing 'Exterior1st_MetalSd' due to high p-value: 0.8059\n",
      "Removing 'Exterior1st_CBlock' due to high p-value: 0.7691\n",
      "Removing 'Exterior1st_WdShing' due to high p-value: 0.5309\n",
      "Removing 'Exterior1st_AsphShn' due to high p-value: 0.5227\n",
      "Removing 'Exterior1st_ImStucc' due to high p-value: 0.4998\n",
      "Removing 'Exterior1st_Plywood' due to high p-value: 0.4538\n",
      "Removing 'LotConfig_CulDSac' due to high p-value: 0.3888\n",
      "Removing 'Exterior1st_AsbShng' due to high p-value: 0.3404\n",
      "Removing 'Exterior1st_CemntBd' due to high p-value: 0.2967\n",
      "Removing 'LotConfig_FR2' due to high p-value: 0.2353\n",
      "Removing 'MSZoning_FV' due to high p-value: 0.1888\n",
      "Removing 'Exterior1st_Wd Sdng' due to high p-value: 0.1793\n",
      "Removing 'Exterior1st_Stucco' due to high p-value: 0.2350\n",
      "Removing 'LotConfig_Inside' due to high p-value: 0.1624\n",
      "Removing 'BsmtFinSF2' due to high p-value: 0.0851\n",
      "Removing 'Exterior1st_BrkComm' due to high p-value: 0.0595\n"
     ]
    }
   ],
   "source": [
    "X_df_clean = remove_by_vif(X_df.copy())\n",
    "X_df_final = remove_by_pvalue(X_df_clean.copy(), y)\n"
   ]
  },
  {
   "cell_type": "markdown",
   "id": "c982627e",
   "metadata": {},
   "source": [
    "Train-Test Split"
   ]
  },
  {
   "cell_type": "code",
   "execution_count": 9,
   "id": "f8934971",
   "metadata": {},
   "outputs": [],
   "source": [
    "X_train, X_test, y_train, y_test = train_test_split(\n",
    "X_df_final, y, test_size=0.2, random_state=42)"
   ]
  },
  {
   "cell_type": "markdown",
   "id": "118c4553",
   "metadata": {},
   "source": [
    "Validation Curves And Plotting"
   ]
  },
  {
   "cell_type": "code",
   "execution_count": 10,
   "id": "fc5c2fb5",
   "metadata": {},
   "outputs": [],
   "source": [
    "def plot_validation_curve(estimator, X, y, param_name, param_range, title):\n",
    "    train_scores, test_scores = validation_curve(\n",
    "        estimator=estimator,\n",
    "        X=X,\n",
    "        y=y,\n",
    "        param_name=param_name,\n",
    "        param_range=param_range,\n",
    "        cv=5,\n",
    "        scoring='r2',\n",
    "        n_jobs=-1\n",
    "    )\n",
    "    train_mean = np.mean(train_scores, axis=1)\n",
    "    train_std = np.std(train_scores, axis=1)\n",
    "    test_mean = np.mean(test_scores, axis=1)\n",
    "    test_std = np.std(test_scores, axis=1)\n",
    "\n",
    "    plt.figure(figsize=(8,6))\n",
    "    plt.title(title)\n",
    "    plt.plot(param_range, train_mean, label=\"Training Score\", color=\"darkorange\", lw=2)\n",
    "    plt.fill_between(param_range, train_mean - train_std, train_mean + train_std, alpha=0.2, color=\"darkorange\")\n",
    "    plt.plot(param_range, test_mean, label=\"Testing Score\", color=\"navy\", lw=2)\n",
    "    plt.fill_between(param_range, test_mean - test_std, test_mean + test_std, alpha=0.2, color=\"navy\")\n",
    "    plt.xlabel(param_name)\n",
    "    plt.ylabel(\"R2 Score\")\n",
    "    plt.legend(loc=\"best\")\n",
    "    plt.grid(True)\n",
    "    plt.show()"
   ]
  },
  {
   "cell_type": "markdown",
   "id": "b9e9663d",
   "metadata": {},
   "source": [
    "Linear Regression"
   ]
  },
  {
   "cell_type": "code",
   "execution_count": 11,
   "id": "8134206d",
   "metadata": {},
   "outputs": [
    {
     "name": "stdout",
     "output_type": "stream",
     "text": [
      "Linear Regression R2: 0.703165\n"
     ]
    }
   ],
   "source": [
    "lr_pipe = Pipeline([\n",
    "    ('scaler', StandardScaler()),\n",
    "    ('lr', LinearRegression())\n",
    "])\n",
    "lr_pipe.fit(X_train, y_train)\n",
    "y_pred_lr = lr_pipe.predict(X_test)\n",
    "print(f\"Linear Regression R2: {r2_score(y_test, y_pred_lr):.6f}\")"
   ]
  },
  {
   "cell_type": "markdown",
   "id": "03f939e8",
   "metadata": {},
   "source": [
    "Ridge Regression"
   ]
  },
  {
   "cell_type": "code",
   "execution_count": 12,
   "id": "41ee508c",
   "metadata": {},
   "outputs": [
    {
     "name": "stdout",
     "output_type": "stream",
     "text": [
      "Best Ridge Alpha: {'ridge__alpha': 1}\n",
      "Ridge Regression R2 (CV): 0.668362\n"
     ]
    }
   ],
   "source": [
    "ridge_pipe = Pipeline([\n",
    "    ('scaler', StandardScaler()),\n",
    "    ('ridge', Ridge())\n",
    "])\n",
    "ridge_params = {'ridge__alpha': [0.1, 1, 10, 100]}\n",
    "ridge_cv = GridSearchCV(ridge_pipe, ridge_params, cv=5, scoring='r2', n_jobs=-1)\n",
    "ridge_cv.fit(X_train, y_train)\n",
    "print(f\"Best Ridge Alpha: {ridge_cv.best_params_}\")\n",
    "print(f\"Ridge Regression R2 (CV): {ridge_cv.best_score_:.6f}\")\n"
   ]
  },
  {
   "cell_type": "markdown",
   "id": "af377eda",
   "metadata": {},
   "source": [
    "Ridge alpha validation curve"
   ]
  },
  {
   "cell_type": "code",
   "execution_count": 13,
   "id": "b67a324f",
   "metadata": {},
   "outputs": [
    {
     "data": {
      "image/png": "[encoded data removed]",
      "text/plain": [
       "<Figure size 800x600 with 1 Axes>"
      ]
     },
     "metadata": {},
     "output_type": "display_data"
    }
   ],
   "source": [
    "plot_validation_curve(\n",
    "    estimator=ridge_pipe,\n",
    "    X=X_train,\n",
    "    y=y_train,\n",
    "    param_name='ridge__alpha',\n",
    "    param_range=[0.1, 1, 10, 100],\n",
    "    title='Validation Curve for Ridge Regression (alpha)'\n",
    ")"
   ]
  },
  {
   "cell_type": "code",
   "execution_count": null,
   "id": "d15ce725",
   "metadata": {},
   "outputs": [],
   "source": []
  }
 ],
 "metadata": {
  "kernelspec": {
   "display_name": "base",
   "language": "python",
   "name": "python3"
  },
  "language_info": {
   "codemirror_mode": {
    "name": "ipython",
    "version": 3
   },
   "file_extension": ".py",
   "mimetype": "text/x-python",
   "name": "python",
   "nbconvert_exporter": "python",
   "pygments_lexer": "ipython3",
   "version": "3.13.5"
  }
 },
 "nbformat": 4,
 "nbformat_minor": 5
}
