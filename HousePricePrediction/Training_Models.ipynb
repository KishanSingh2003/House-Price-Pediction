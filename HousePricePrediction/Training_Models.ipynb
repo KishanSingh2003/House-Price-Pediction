{
 "cells": [
  {
   "cell_type": "code",
   "execution_count": 1,
   "id": "7226d36f",
   "metadata": {},
   "outputs": [
    {
     "name": "stdout",
     "output_type": "stream",
     "text": [
      "Collecting catboostNote: you may need to restart the kernel to use updated packages.\n",
      "\n",
      "  Downloading catboost-1.2.8-cp313-cp313-win_amd64.whl.metadata (1.5 kB)\n",
      "Collecting graphviz (from catboost)\n",
      "  Downloading graphviz-0.21-py3-none-any.whl.metadata (12 kB)\n",
      "Requirement already satisfied: matplotlib in c:\\users\\singh\\anaconda3\\lib\\site-packages (from catboost) (3.10.0)\n",
      "Requirement already satisfied: numpy<3.0,>=1.16.0 in c:\\users\\singh\\anaconda3\\lib\\site-packages (from catboost) (2.1.3)\n",
      "Requirement already satisfied: pandas>=0.24 in c:\\users\\singh\\anaconda3\\lib\\site-packages (from catboost) (2.2.3)\n",
      "Requirement already satisfied: scipy in c:\\users\\singh\\anaconda3\\lib\\site-packages (from catboost) (1.15.3)\n",
      "Requirement already satisfied: plotly in c:\\users\\singh\\anaconda3\\lib\\site-packages (from catboost) (5.24.1)\n",
      "Requirement already satisfied: six in c:\\users\\singh\\anaconda3\\lib\\site-packages (from catboost) (1.17.0)\n",
      "Requirement already satisfied: python-dateutil>=2.8.2 in c:\\users\\singh\\anaconda3\\lib\\site-packages (from pandas>=0.24->catboost) (2.9.0.post0)\n",
      "Requirement already satisfied: pytz>=2020.1 in c:\\users\\singh\\anaconda3\\lib\\site-packages (from pandas>=0.24->catboost) (2024.1)\n",
      "Requirement already satisfied: tzdata>=2022.7 in c:\\users\\singh\\anaconda3\\lib\\site-packages (from pandas>=0.24->catboost) (2025.2)\n",
      "Requirement already satisfied: contourpy>=1.0.1 in c:\\users\\singh\\anaconda3\\lib\\site-packages (from matplotlib->catboost) (1.3.1)\n",
      "Requirement already satisfied: cycler>=0.10 in c:\\users\\singh\\anaconda3\\lib\\site-packages (from matplotlib->catboost) (0.11.0)\n",
      "Requirement already satisfied: fonttools>=4.22.0 in c:\\users\\singh\\anaconda3\\lib\\site-packages (from matplotlib->catboost) (4.55.3)\n",
      "Requirement already satisfied: kiwisolver>=1.3.1 in c:\\users\\singh\\anaconda3\\lib\\site-packages (from matplotlib->catboost) (1.4.8)\n",
      "Requirement already satisfied: packaging>=20.0 in c:\\users\\singh\\anaconda3\\lib\\site-packages (from matplotlib->catboost) (24.2)\n",
      "Requirement already satisfied: pillow>=8 in c:\\users\\singh\\anaconda3\\lib\\site-packages (from matplotlib->catboost) (11.1.0)\n",
      "Requirement already satisfied: pyparsing>=2.3.1 in c:\\users\\singh\\anaconda3\\lib\\site-packages (from matplotlib->catboost) (3.2.0)\n",
      "Requirement already satisfied: tenacity>=6.2.0 in c:\\users\\singh\\anaconda3\\lib\\site-packages (from plotly->catboost) (9.0.0)\n",
      "Downloading catboost-1.2.8-cp313-cp313-win_amd64.whl (102.4 MB)\n",
      "   ---------------------------------------- 0.0/102.4 MB ? eta -:--:--\n",
      "   ---------------------------------------- 0.3/102.4 MB ? eta -:--:--\n",
      "    --------------------------------------- 1.8/102.4 MB 8.3 MB/s eta 0:00:13\n",
      "   - -------------------------------------- 3.7/102.4 MB 8.3 MB/s eta 0:00:12\n",
      "   - -------------------------------------- 5.0/102.4 MB 7.6 MB/s eta 0:00:13\n",
      "   -- ------------------------------------- 5.8/102.4 MB 7.6 MB/s eta 0:00:13\n",
      "   -- ------------------------------------- 6.8/102.4 MB 6.4 MB/s eta 0:00:16\n",
      "   -- ------------------------------------- 7.6/102.4 MB 5.8 MB/s eta 0:00:17\n",
      "   --- ------------------------------------ 8.1/102.4 MB 5.6 MB/s eta 0:00:17\n",
      "   ---- ----------------------------------- 10.5/102.4 MB 6.3 MB/s eta 0:00:15\n",
      "   ---- ----------------------------------- 11.8/102.4 MB 6.2 MB/s eta 0:00:15\n",
      "   ---- ----------------------------------- 12.6/102.4 MB 5.9 MB/s eta 0:00:16\n",
      "   ----- ---------------------------------- 13.9/102.4 MB 6.0 MB/s eta 0:00:15\n",
      "   ----- ---------------------------------- 14.9/102.4 MB 5.9 MB/s eta 0:00:15\n",
      "   ------ --------------------------------- 16.0/102.4 MB 5.8 MB/s eta 0:00:15\n",
      "   ------ --------------------------------- 16.8/102.4 MB 5.7 MB/s eta 0:00:15\n",
      "   ------ --------------------------------- 17.8/102.4 MB 5.6 MB/s eta 0:00:16\n",
      "   ------- -------------------------------- 18.6/102.4 MB 5.6 MB/s eta 0:00:16\n",
      "   ------- -------------------------------- 19.7/102.4 MB 5.5 MB/s eta 0:00:16\n",
      "   ------- -------------------------------- 20.4/102.4 MB 5.4 MB/s eta 0:00:16\n",
      "   -------- ------------------------------- 21.5/102.4 MB 5.4 MB/s eta 0:00:16\n",
      "   -------- ------------------------------- 22.5/102.4 MB 5.4 MB/s eta 0:00:15\n",
      "   --------- ------------------------------ 23.3/102.4 MB 5.3 MB/s eta 0:00:15\n",
      "   --------- ------------------------------ 24.4/102.4 MB 5.3 MB/s eta 0:00:15\n",
      "   --------- ------------------------------ 25.4/102.4 MB 5.3 MB/s eta 0:00:15\n",
      "   ---------- ----------------------------- 26.5/102.4 MB 5.2 MB/s eta 0:00:15\n",
      "   ---------- ----------------------------- 27.3/102.4 MB 5.2 MB/s eta 0:00:15\n",
      "   ----------- ---------------------------- 28.3/102.4 MB 5.2 MB/s eta 0:00:15\n",
      "   ----------- ---------------------------- 29.4/102.4 MB 5.2 MB/s eta 0:00:15\n",
      "   ----------- ---------------------------- 30.4/102.4 MB 5.2 MB/s eta 0:00:14\n",
      "   ------------ --------------------------- 31.5/102.4 MB 5.2 MB/s eta 0:00:14\n",
      "   ------------ --------------------------- 32.5/102.4 MB 5.2 MB/s eta 0:00:14\n",
      "   ------------- -------------------------- 33.6/102.4 MB 5.2 MB/s eta 0:00:14\n",
      "   ------------- -------------------------- 34.3/102.4 MB 5.1 MB/s eta 0:00:14\n",
      "   ------------- -------------------------- 35.1/102.4 MB 5.1 MB/s eta 0:00:14\n",
      "   -------------- ------------------------- 36.2/102.4 MB 5.1 MB/s eta 0:00:14\n",
      "   -------------- ------------------------- 37.2/102.4 MB 5.1 MB/s eta 0:00:13\n",
      "   -------------- ------------------------- 38.3/102.4 MB 5.1 MB/s eta 0:00:13\n",
      "   --------------- ------------------------ 39.3/102.4 MB 5.1 MB/s eta 0:00:13\n",
      "   --------------- ------------------------ 40.4/102.4 MB 5.1 MB/s eta 0:00:13\n",
      "   ---------------- ----------------------- 41.4/102.4 MB 5.1 MB/s eta 0:00:13\n",
      "   ---------------- ----------------------- 42.5/102.4 MB 5.1 MB/s eta 0:00:12\n",
      "   ---------------- ----------------------- 43.5/102.4 MB 5.1 MB/s eta 0:00:12\n",
      "   ----------------- ---------------------- 44.6/102.4 MB 5.1 MB/s eta 0:00:12\n",
      "   ----------------- ---------------------- 45.4/102.4 MB 5.1 MB/s eta 0:00:12\n",
      "   ------------------ --------------------- 46.4/102.4 MB 5.1 MB/s eta 0:00:12\n",
      "   ------------------ --------------------- 47.7/102.4 MB 5.1 MB/s eta 0:00:11\n",
      "   ------------------ --------------------- 48.5/102.4 MB 5.1 MB/s eta 0:00:11\n",
      "   ------------------- -------------------- 49.5/102.4 MB 5.1 MB/s eta 0:00:11\n",
      "   ------------------- -------------------- 50.6/102.4 MB 5.1 MB/s eta 0:00:11\n",
      "   -------------------- ------------------- 51.6/102.4 MB 5.1 MB/s eta 0:00:11\n",
      "   -------------------- ------------------- 52.7/102.4 MB 5.0 MB/s eta 0:00:10\n",
      "   -------------------- ------------------- 53.5/102.4 MB 5.0 MB/s eta 0:00:10\n",
      "   --------------------- ------------------ 54.5/102.4 MB 5.0 MB/s eta 0:00:10\n",
      "   --------------------- ------------------ 55.8/102.4 MB 5.0 MB/s eta 0:00:10\n",
      "   ---------------------- ----------------- 56.9/102.4 MB 5.0 MB/s eta 0:00:10\n",
      "   ---------------------- ----------------- 57.9/102.4 MB 5.1 MB/s eta 0:00:09\n",
      "   ----------------------- ---------------- 59.0/102.4 MB 5.1 MB/s eta 0:00:09\n",
      "   ----------------------- ---------------- 60.0/102.4 MB 5.1 MB/s eta 0:00:09\n",
      "   ----------------------- ---------------- 61.1/102.4 MB 5.1 MB/s eta 0:00:09\n",
      "   ------------------------ --------------- 62.4/102.4 MB 5.1 MB/s eta 0:00:08\n",
      "   ------------------------ --------------- 63.4/102.4 MB 5.1 MB/s eta 0:00:08\n",
      "   ------------------------- -------------- 64.7/102.4 MB 5.1 MB/s eta 0:00:08\n",
      "   ------------------------- -------------- 66.1/102.4 MB 5.1 MB/s eta 0:00:08\n",
      "   -------------------------- ------------- 67.1/102.4 MB 5.1 MB/s eta 0:00:07\n",
      "   -------------------------- ------------- 68.4/102.4 MB 5.1 MB/s eta 0:00:07\n",
      "   --------------------------- ------------ 69.7/102.4 MB 5.2 MB/s eta 0:00:07\n",
      "   --------------------------- ------------ 71.0/102.4 MB 5.2 MB/s eta 0:00:07\n",
      "   ---------------------------- ----------- 72.6/102.4 MB 5.2 MB/s eta 0:00:06\n",
      "   ---------------------------- ----------- 73.9/102.4 MB 5.2 MB/s eta 0:00:06\n",
      "   ----------------------------- ---------- 75.0/102.4 MB 5.2 MB/s eta 0:00:06\n",
      "   ----------------------------- ---------- 76.3/102.4 MB 5.2 MB/s eta 0:00:05\n",
      "   ------------------------------ --------- 77.3/102.4 MB 5.2 MB/s eta 0:00:05\n",
      "   ------------------------------ --------- 78.4/102.4 MB 5.2 MB/s eta 0:00:05\n",
      "   ------------------------------- -------- 79.4/102.4 MB 5.2 MB/s eta 0:00:05\n",
      "   ------------------------------- -------- 80.7/102.4 MB 5.2 MB/s eta 0:00:05\n",
      "   -------------------------------- ------- 82.1/102.4 MB 5.2 MB/s eta 0:00:04\n",
      "   -------------------------------- ------- 82.8/102.4 MB 5.2 MB/s eta 0:00:04\n",
      "   -------------------------------- ------- 83.6/102.4 MB 5.2 MB/s eta 0:00:04\n",
      "   -------------------------------- ------- 84.1/102.4 MB 5.2 MB/s eta 0:00:04\n",
      "   --------------------------------- ------ 84.9/102.4 MB 5.2 MB/s eta 0:00:04\n",
      "   --------------------------------- ------ 85.5/102.4 MB 5.1 MB/s eta 0:00:04\n",
      "   --------------------------------- ------ 86.2/102.4 MB 5.1 MB/s eta 0:00:04\n",
      "   --------------------------------- ------ 86.8/102.4 MB 5.1 MB/s eta 0:00:04\n",
      "   ---------------------------------- ----- 87.6/102.4 MB 5.1 MB/s eta 0:00:03\n",
      "   ---------------------------------- ----- 88.1/102.4 MB 5.0 MB/s eta 0:00:03\n",
      "   ---------------------------------- ----- 88.9/102.4 MB 5.0 MB/s eta 0:00:03\n",
      "   ----------------------------------- ---- 89.7/102.4 MB 5.0 MB/s eta 0:00:03\n",
      "   ----------------------------------- ---- 90.2/102.4 MB 5.0 MB/s eta 0:00:03\n",
      "   ----------------------------------- ---- 91.0/102.4 MB 5.0 MB/s eta 0:00:03\n",
      "   ----------------------------------- ---- 91.8/102.4 MB 4.9 MB/s eta 0:00:03\n",
      "   ------------------------------------ --- 92.5/102.4 MB 4.9 MB/s eta 0:00:03\n",
      "   ------------------------------------ --- 93.1/102.4 MB 4.9 MB/s eta 0:00:02\n",
      "   ------------------------------------ --- 93.8/102.4 MB 4.9 MB/s eta 0:00:02\n",
      "   ------------------------------------ --- 94.6/102.4 MB 4.9 MB/s eta 0:00:02\n",
      "   ------------------------------------- -- 95.4/102.4 MB 4.9 MB/s eta 0:00:02\n",
      "   ------------------------------------- -- 95.9/102.4 MB 4.9 MB/s eta 0:00:02\n",
      "   ------------------------------------- -- 96.7/102.4 MB 4.8 MB/s eta 0:00:02\n",
      "   -------------------------------------- - 97.5/102.4 MB 4.8 MB/s eta 0:00:02\n",
      "   -------------------------------------- - 98.3/102.4 MB 4.8 MB/s eta 0:00:01\n",
      "   -------------------------------------- - 98.8/102.4 MB 4.8 MB/s eta 0:00:01\n",
      "   -------------------------------------- - 99.6/102.4 MB 4.8 MB/s eta 0:00:01\n",
      "   ---------------------------------------  100.4/102.4 MB 4.8 MB/s eta 0:00:01\n",
      "   ---------------------------------------  101.2/102.4 MB 4.8 MB/s eta 0:00:01\n",
      "   ---------------------------------------  102.0/102.4 MB 4.8 MB/s eta 0:00:01\n",
      "   ---------------------------------------  102.2/102.4 MB 4.8 MB/s eta 0:00:01\n",
      "   ---------------------------------------- 102.4/102.4 MB 4.7 MB/s eta 0:00:00\n",
      "Downloading graphviz-0.21-py3-none-any.whl (47 kB)\n",
      "Installing collected packages: graphviz, catboost\n",
      "\n",
      "   ---------------------------------------- 0/2 [graphviz]\n",
      "   -------------------- ------------------- 1/2 [catboost]\n",
      "   -------------------- ------------------- 1/2 [catboost]\n",
      "   -------------------- ------------------- 1/2 [catboost]\n",
      "   -------------------- ------------------- 1/2 [catboost]\n",
      "   -------------------- ------------------- 1/2 [catboost]\n",
      "   -------------------- ------------------- 1/2 [catboost]\n",
      "   -------------------- ------------------- 1/2 [catboost]\n",
      "   -------------------- ------------------- 1/2 [catboost]\n",
      "   -------------------- ------------------- 1/2 [catboost]\n",
      "   -------------------- ------------------- 1/2 [catboost]\n",
      "   -------------------- ------------------- 1/2 [catboost]\n",
      "   -------------------- ------------------- 1/2 [catboost]\n",
      "   -------------------- ------------------- 1/2 [catboost]\n",
      "   -------------------- ------------------- 1/2 [catboost]\n",
      "   -------------------- ------------------- 1/2 [catboost]\n",
      "   -------------------- ------------------- 1/2 [catboost]\n",
      "   -------------------- ------------------- 1/2 [catboost]\n",
      "   ---------------------------------------- 2/2 [catboost]\n",
      "\n",
      "Successfully installed catboost-1.2.8 graphviz-0.21\n"
     ]
    }
   ],
   "source": [
    "%pip install catboost"
   ]
  },
  {
   "cell_type": "code",
   "execution_count": 4,
   "id": "fbce6cf3",
   "metadata": {},
   "outputs": [
    {
     "name": "stdout",
     "output_type": "stream",
     "text": [
      "Requirement already satisfied: xgboost in c:\\users\\singh\\anaconda3\\lib\\site-packages (3.0.4)\n",
      "Requirement already satisfied: numpy in c:\\users\\singh\\anaconda3\\lib\\site-packages (from xgboost) (2.1.3)\n",
      "Requirement already satisfied: scipy in c:\\users\\singh\\anaconda3\\lib\\site-packages (from xgboost) (1.15.3)\n",
      "Note: you may need to restart the kernel to use updated packages.\n"
     ]
    }
   ],
   "source": [
    "%pip install xgboost"
   ]
  },
  {
   "cell_type": "code",
   "execution_count": 5,
   "id": "b050dd3b",
   "metadata": {},
   "outputs": [],
   "source": [
    "import numpy as np\n",
    "import pandas as pd\n",
    "from sklearn.pipeline import Pipeline, FeatureUnion\n",
    "from sklearn.preprocessing import StandardScaler, OneHotEncoder\n",
    "from sklearn.impute import SimpleImputer\n",
    "from sklearn.base import BaseEstimator, TransformerMixin\n",
    "from sklearn.model_selection import train_test_split, GridSearchCV, cross_val_score, RandomizedSearchCV, RepeatedKFold, validation_curve\n",
    "from sklearn.linear_model import LinearRegression, Ridge\n",
    "from sklearn.ensemble import GradientBoostingRegressor, StackingRegressor\n",
    "from sklearn.svm import SVR\n",
    "from sklearn.metrics import r2_score\n",
    "from xgboost import XGBRegressor\n",
    "from catboost import CatBoostRegressor\n",
    "import statsmodels.api as sm\n",
    "from statsmodels.stats.outliers_influence import variance_inflation_factor\n",
    "import matplotlib.pyplot as plt"
   ]
  },
  {
   "cell_type": "code",
   "execution_count": 6,
   "id": "4da97258",
   "metadata": {},
   "outputs": [],
   "source": [
    "class DataFrameSelector(BaseEstimator, TransformerMixin):\n",
    "    def __init__(self, features):\n",
    "        self.features = features\n",
    "    def fit(self, X, y=None):\n",
    "        return self\n",
    "    def transform(self, X):\n",
    "        return X[self.features]"
   ]
  },
  {
   "cell_type": "code",
   "execution_count": 7,
   "id": "ae27d1fe",
   "metadata": {},
   "outputs": [],
   "source": [
    "df = pd.read_excel(\"C:\\\\Users\\\\singh\\\\House-Price-Pediction\\\\HousePricePrediction\\\\HousePricePrediction.xlsx\")\n",
    "df.drop('Id', axis=1, inplace=True)\n",
    "df = df.dropna(subset=['SalePrice'])"
   ]
  },
  {
   "cell_type": "code",
   "execution_count": 8,
   "id": "caecee76",
   "metadata": {},
   "outputs": [],
   "source": [
    "y = np.log1p(df['SalePrice'])\n",
    "df = df.drop('SalePrice', axis=1)\n",
    "\n",
    "num_features = df.select_dtypes(include=[np.number]).columns.tolist()\n",
    "cat_features = df.select_dtypes(include=['object']).columns.tolist()"
   ]
  },
  {
   "cell_type": "code",
   "execution_count": 9,
   "id": "42e0f27c",
   "metadata": {},
   "outputs": [],
   "source": [
    "num_pipeline = Pipeline([\n",
    "    ('selector', DataFrameSelector(num_features)),\n",
    "    ('imputer', SimpleImputer(strategy='median')),\n",
    "    ('scaler', StandardScaler())\n",
    "])\n",
    "cat_pipeline = Pipeline([\n",
    "    ('selector', DataFrameSelector(cat_features)),\n",
    "    ('imputer', SimpleImputer(strategy='constant', fill_value='Missing')),\n",
    "    ('onehot', OneHotEncoder(handle_unknown='ignore', sparse_output=False))\n",
    "])\n",
    "full_pipeline = FeatureUnion([\n",
    "    ('num_pipeline', num_pipeline),\n",
    "    ('cat_pipeline', cat_pipeline)\n",
    "])\n",
    "\n",
    "X_prepared = full_pipeline.fit_transform(df)\n",
    "onehot_encoder = full_pipeline.transformer_list[1][1].named_steps['onehot']\n",
    "feature_names = num_features + list(onehot_encoder.get_feature_names_out(cat_features))\n",
    "X_df = pd.DataFrame(X_prepared, columns=feature_names)\n",
    "\n",
    "def remove_by_vif(X, thresh=5.0):\n",
    "    while True:\n",
    "        vif = pd.Series(\n",
    "            [variance_inflation_factor(X.values, i) for i in range(X.shape[1])],\n",
    "            index=X.columns\n",
    "        )\n",
    "        max_vif = vif.max()\n",
    "        if max_vif > thresh:\n",
    "            drop_col = vif.idxmax()\n",
    "            print(f\"Removing '{drop_col}' due to high VIF: {max_vif:.2f}\")\n",
    "            X = X.drop(columns=[drop_col])\n",
    "        else:\n",
    "            break\n",
    "    return X\n",
    "\n",
    "def remove_by_pvalue(X, y, thresh=0.05):\n",
    "    while True:\n",
    "        X_const = sm.add_constant(X)\n",
    "        y_aligned = y.loc[X.index]\n",
    "        model = sm.OLS(y_aligned, X_const).fit()\n",
    "        pvalues = model.pvalues.iloc[1:]\n",
    "        max_pval = pvalues.max()\n",
    "        if max_pval > thresh:\n",
    "            drop_col = pvalues.idxmax()\n",
    "            print(f\"Removing '{drop_col}' due to high p-value: {max_pval:.4f}\")\n",
    "            X = X.drop(columns=[drop_col])\n",
    "        else:\n",
    "            break\n",
    "    return X"
   ]
  },
  {
   "cell_type": "code",
   "execution_count": 10,
   "id": "06cd3a1d",
   "metadata": {},
   "outputs": [
    {
     "name": "stderr",
     "output_type": "stream",
     "text": [
      "c:\\Users\\singh\\anaconda3\\Lib\\site-packages\\statsmodels\\stats\\outliers_influence.py:197: RuntimeWarning: divide by zero encountered in scalar divide\n",
      "  vif = 1. / (1. - r_squared_i)\n"
     ]
    },
    {
     "name": "stdout",
     "output_type": "stream",
     "text": [
      "Removing 'MSZoning_C (all)' due to high VIF: inf\n"
     ]
    },
    {
     "name": "stderr",
     "output_type": "stream",
     "text": [
      "c:\\Users\\singh\\anaconda3\\Lib\\site-packages\\statsmodels\\stats\\outliers_influence.py:197: RuntimeWarning: divide by zero encountered in scalar divide\n",
      "  vif = 1. / (1. - r_squared_i)\n"
     ]
    },
    {
     "name": "stdout",
     "output_type": "stream",
     "text": [
      "Removing 'LotConfig_Corner' due to high VIF: inf\n"
     ]
    },
    {
     "name": "stderr",
     "output_type": "stream",
     "text": [
      "c:\\Users\\singh\\anaconda3\\Lib\\site-packages\\statsmodels\\stats\\outliers_influence.py:197: RuntimeWarning: divide by zero encountered in scalar divide\n",
      "  vif = 1. / (1. - r_squared_i)\n"
     ]
    },
    {
     "name": "stdout",
     "output_type": "stream",
     "text": [
      "Removing 'BldgType_1Fam' due to high VIF: inf\n",
      "Removing 'Exterior1st_VinylSd' due to high VIF: 57.09\n",
      "Removing 'MSZoning_RL' due to high VIF: 7.46\n",
      "Removing 'MSZoning_RH' due to high p-value: 0.8785\n",
      "Removing 'LotConfig_FR3' due to high p-value: 0.8091\n",
      "Removing 'Exterior1st_MetalSd' due to high p-value: 0.8059\n",
      "Removing 'Exterior1st_CBlock' due to high p-value: 0.7691\n",
      "Removing 'Exterior1st_WdShing' due to high p-value: 0.5309\n",
      "Removing 'Exterior1st_AsphShn' due to high p-value: 0.5227\n",
      "Removing 'Exterior1st_ImStucc' due to high p-value: 0.4998\n",
      "Removing 'Exterior1st_Plywood' due to high p-value: 0.4538\n",
      "Removing 'LotConfig_CulDSac' due to high p-value: 0.3888\n",
      "Removing 'Exterior1st_AsbShng' due to high p-value: 0.3404\n",
      "Removing 'Exterior1st_CemntBd' due to high p-value: 0.2967\n",
      "Removing 'LotConfig_FR2' due to high p-value: 0.2353\n",
      "Removing 'MSZoning_FV' due to high p-value: 0.1888\n",
      "Removing 'Exterior1st_Wd Sdng' due to high p-value: 0.1793\n",
      "Removing 'Exterior1st_Stucco' due to high p-value: 0.2350\n",
      "Removing 'LotConfig_Inside' due to high p-value: 0.1624\n",
      "Removing 'BsmtFinSF2' due to high p-value: 0.0851\n",
      "Removing 'Exterior1st_BrkComm' due to high p-value: 0.0595\n"
     ]
    }
   ],
   "source": [
    "X_df_clean = remove_by_vif(X_df.copy())\n",
    "X_df_final = remove_by_pvalue(X_df_clean.copy(), y)\n"
   ]
  },
  {
   "cell_type": "code",
   "execution_count": null,
   "id": "f8934971",
   "metadata": {},
   "outputs": [],
   "source": []
  }
 ],
 "metadata": {
  "kernelspec": {
   "display_name": "base",
   "language": "python",
   "name": "python3"
  },
  "language_info": {
   "codemirror_mode": {
    "name": "ipython",
    "version": 3
   },
   "file_extension": ".py",
   "mimetype": "text/x-python",
   "name": "python",
   "nbconvert_exporter": "python",
   "pygments_lexer": "ipython3",
   "version": "3.13.5"
  }
 },
 "nbformat": 4,
 "nbformat_minor": 5
}
